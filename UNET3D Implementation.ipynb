{
 "cells": [
  {
   "cell_type": "markdown",
   "id": "110545bd",
   "metadata": {},
   "source": [
    "# UNET 3D"
   ]
  },
  {
   "cell_type": "code",
   "execution_count": 3,
   "id": "504dbec9",
   "metadata": {},
   "outputs": [],
   "source": [
    "import matplotlib.pyplot as plt\n",
    "from PIL import Image\n",
    "import torch \n",
    "import cv2"
   ]
  },
  {
   "cell_type": "code",
   "execution_count": null,
   "id": "a5e19d5c",
   "metadata": {},
   "outputs": [],
   "source": [
    "cv2."
   ]
  },
  {
   "cell_type": "code",
   "execution_count": null,
   "id": "b7315b12",
   "metadata": {},
   "outputs": [],
   "source": [
    "# data processing\n",
    "\n",
    "-> dataset \n",
    "-> datalaoder\n",
    "-> data "
   ]
  },
  {
   "cell_type": "code",
   "execution_count": null,
   "id": "dd5017dd",
   "metadata": {},
   "outputs": [],
   "source": [
    "class UNET3D(nn.Model):\n",
    "    def __init__(self):\n",
    "        \n",
    "        self.conv3d = torch.nn.Conv3d(in_channels, out_channels, kernel_size, stride=1, padding=0, dilation=1, groups=1, bias=True, padding_mode='zeros', device=None, dtype=None)\n",
    "\n",
    "        block1 = torch.nn.sequential(\n",
    "        \n",
    "                                    )\n",
    "        self.maxpool\n",
    "        self.upconv3d\n",
    "        self.relu\n",
    "        self.concat\n",
    "        \n",
    "    def forward():  \n",
    "        \n",
    "        \n",
    "        pass"
   ]
  }
 ],
 "metadata": {
  "kernelspec": {
   "display_name": "Python 3 (ipykernel)",
   "language": "python",
   "name": "python3"
  },
  "language_info": {
   "codemirror_mode": {
    "name": "ipython",
    "version": 3
   },
   "file_extension": ".py",
   "mimetype": "text/x-python",
   "name": "python",
   "nbconvert_exporter": "python",
   "pygments_lexer": "ipython3",
   "version": "3.9.7"
  }
 },
 "nbformat": 4,
 "nbformat_minor": 5
}
